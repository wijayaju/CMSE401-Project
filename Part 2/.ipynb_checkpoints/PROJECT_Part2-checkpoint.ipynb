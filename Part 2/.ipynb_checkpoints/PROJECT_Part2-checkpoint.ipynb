{
 "cells": [
  {
   "cell_type": "markdown",
   "metadata": {},
   "source": [
    "# Project Part 2: Benchmark and Optimization\n",
    "\n",
    "In this milestone you will provide a report which includes the results of your benchmark and optimization.  Your report will include a performance benchmark on a single core and then a description of what you did to speed up the code and a graph of how much improvement you made over the benchmark.  Your final report should include the following:\n",
    "\n",
    "- Project Title\n",
    "- Motivating Image\n",
    "- Abstract\n",
    "- Methodology\n",
    "- Timing Results\n",
    "- Concluding Discussion and Future Work\n",
    "- References\n",
    "\n",
    "\n",
    "To help you out your instructor has provided the following template\n"
   ]
  },
  {
   "cell_type": "markdown",
   "metadata": {},
   "source": [
    "---- START TEMPLATE ----"
   ]
  },
  {
   "cell_type": "markdown",
   "metadata": {},
   "source": [
    "# Part 2 - Project Title \n",
    "\n",
    "By \"Justin Wijaya\""
   ]
  },
  {
   "cell_type": "markdown",
   "metadata": {},
   "source": [
    "&#9989; Replace the following with a picture that \"defines\" your project.  This could be software logo, an expected outcome of your project, or a graphical representation of the research area. Again, it is okay to use the picture from the proposal but it is also good to come up with a new unique picture.  \n",
    "\n",
    "<img alt=\"Simple Icon of a camera. This is just a place holder for your image\" src=\"https://miro.medium.com/v2/resize:fit:720/1*VSQ0XEywxSgZBwW05GsZtw.png\" width=\"20%\">\n",
    "\n",
    "Image from: [https://navaneethsdk.medium.com](https://navaneethsdk.medium.com/getting-started-with-pytorch-4fa1a5ee1502)"
   ]
  },
  {
   "cell_type": "markdown",
   "metadata": {},
   "source": [
    "---\n",
    "# Abstract\n",
    "\n",
    "&#9989;  Provide a short paragraph about the software and scientific/engineering domain you cover in your project (research area, sports, economics, etc). Explain why you picked this domain (i.e. what is your motivation). Explain how computation is used in this domain. Give a short description of what you did and a summary of results.  \n",
    "\n",
    "This project covers the domain of image classification using the Fashion-MNIST dataset. The motivation stems from its relevance in e-commerce and fashion recommendation systems, in which accurately categorizing clothing is essential. In this domain, computation is used to train the model, evaluate the results, optimize parameters, and predict using new data. I compared the performance of an image classifier with its serial form and with PyTorch's usage of GPUs. summary results"
   ]
  },
  {
   "cell_type": "markdown",
   "metadata": {},
   "source": [
    "---\n",
    "# Methodology\n",
    "\n",
    "&#9989;  Provide a more detailed description about what you did for this project.  Include detailed instructions needed to reproduce the project.  These instructions should be detailed enough for a future student to be able to read the report, reproduce your results and pick up where you left off. "
   ]
  },
  {
   "cell_type": "markdown",
   "metadata": {},
   "source": [
    "To optimize the code, I used some of PyTorch's built-in functions to utilize CUDA in its computations for training the model. The specific modifications consist of setting the device to CUDA (instead of the cpu) and moving all the tensors and the model to the device. The general layout of the code can be found in the `Test_Notebook.ipynb` file. The bash script to produce these results is `benchmarker.sh`.\n",
    "\n",
    "Also, make sure to run the following commands before testing:\n",
    "```bash\n",
    "    module load PyTorch/2.1.2-foss-2023a-CUDA-12.1.1\n",
    "    module load torchvision/0.16.0-foss-2023a-CUDA-12.1.1\n",
    "```"
   ]
  },
  {
   "cell_type": "markdown",
   "metadata": {},
   "source": [
    "---\n",
    "# Timing Results\n",
    "\n",
    "&#9989;  Show the results of a baseline experiment on a single core and after optimization.  Also include a graph of the results. \n",
    "\n",
    "\n",
    "&#9989;  Provide the results of a benchmark or scaling study for your project.  Make sure you include a description of the hardware that was used and graph the results.  Make sure you include detailed descriptions about the hardware that was used.  Graphs alone are not sufficient, explain the graphs. Did they meet expectations?  Was there any anomalies?"
   ]
  },
  {
   "cell_type": "markdown",
   "metadata": {},
   "source": [
    "With the implementation out of the way, we can discuss the benchmarks. We can figure out the runtimes and accuracies for each optimization version through a test. These tests were run on the HPCC using the k80 GPUs. \n",
    "\n",
    "P.S. make sure that the necessary modules are loaded before trying to run the program without the submission script. See `README.md` in PyTorch directory for installation directions."
   ]
  },
  {
   "cell_type": "code",
   "execution_count": 26,
   "metadata": {},
   "outputs": [],
   "source": [
    "# library\n",
    "import matplotlib.pyplot as plt\n",
    "%matplotlib inline"
   ]
  },
  {
   "cell_type": "code",
   "execution_count": null,
   "metadata": {},
   "outputs": [],
   "source": [
    "# runtimes\n",
    "serial_t = pass\n",
    "oneGPU_t = pass\n",
    "twoGPU_t = pass\n",
    "\n",
    "# accuracies\n",
    "serial_a = pass\n",
    "oneGPU_a = pass\n",
    "twoGPU_a = pass"
   ]
  },
  {
   "cell_type": "markdown",
   "metadata": {},
   "source": [
    "With the results in, we can see for ourselves how well each optimization version fares in runtime and accuracy compared to each other:"
   ]
  },
  {
   "cell_type": "code",
   "execution_count": null,
   "metadata": {},
   "outputs": [],
   "source": [
    "# plot runtimes\n",
    "plt.bar(serial_t,label='serial')\n",
    "plt.bar(oneGPU_t,label='1 GPU')\n",
    "plt.bar(twoGPU_t,label='2 GPUs')\n",
    "plt.bar(threeGPU_t,label='3 GPUs')\n",
    "plt.bar(fourGPU_t,label='4 GPUs')\n",
    "plt.title('Runtime Benchmarks')\n",
    "plt.ylabel('Time (s)')\n",
    "plt.legend()\n",
    "plt.show()"
   ]
  },
  {
   "cell_type": "code",
   "execution_count": null,
   "metadata": {},
   "outputs": [],
   "source": [
    "# plot accuracies\n",
    "plt.bar(serial_a,label='serial')\n",
    "plt.bar(oneGPU_a,label='1 GPU')\n",
    "plt.bar(twoGPU_a,label='2 GPUs')\n",
    "plt.bar(threeGPU_a,label='3 GPUs')\n",
    "plt.bar(fourGPU_a,label='4 GPUs')\n",
    "plt.title('Accuracy Benchmarks')\n",
    "plt.ylabel('Accuracy %')\n",
    "plt.legend()\n",
    "plt.show()"
   ]
  },
  {
   "cell_type": "code",
   "execution_count": null,
   "metadata": {},
   "outputs": [],
   "source": [
    "Serial Benchmark:\n",
    "\n",
    "real    0m46.926s\n",
    "user    16m11.805s\n",
    "sys     0m1.020s\n",
    "1 GPU Benchmark:\n",
    "\n",
    "real    0m54.676s\n",
    "user    0m53.539s\n",
    "sys     0m1.198s\n",
    "2 GPU Benchmark:\n",
    "\n",
    "real    2m46.616s\n",
    "user    2m57.363s\n",
    "sys     0m7.315s"
   ]
  },
  {
   "cell_type": "markdown",
   "metadata": {},
   "source": [
    "These graphs meet/don't meet my expectations."
   ]
  },
  {
   "cell_type": "markdown",
   "metadata": {},
   "source": [
    "---\n",
    "# Concluding Discussion and Future Work\n",
    "\n",
    "&#9989;  Give another short description of the project and your final results.  Use this to talk about what you learned in this project.  Include what you found interesting and what would be a next step.  "
   ]
  },
  {
   "cell_type": "markdown",
   "metadata": {},
   "source": [
    "dkjbajdk"
   ]
  },
  {
   "cell_type": "markdown",
   "metadata": {},
   "source": [
    "---\n",
    "# References\n",
    "\n",
    "&#9989;  Include links to websites and resources used in this project.  "
   ]
  },
  {
   "cell_type": "markdown",
   "metadata": {},
   "source": [
    "- https://pytorch.org/get-started/locally/\n",
    "- https://stackoverflow.com/questions/54216920/how-to-use-multiple-gpus-in-pytorch\n",
    "- https://medium.com/@BetterEverything/passing-data-to-a-python-file-when-running-it-with-commands-3cc437667b2b\n",
    "- https://bobbyhadz.com/blog/python-pip-install-silent-non-interactive-mode"
   ]
  },
  {
   "cell_type": "markdown",
   "metadata": {},
   "source": [
    "---- END TEMPLATE ----"
   ]
  },
  {
   "cell_type": "markdown",
   "metadata": {},
   "source": [
    "-----\n",
    "### Congratulations, you are done!\n",
    "\n",
    "Now, you just need to create a second directory in your git repository and include your report as an md or ipynb file in the directory along with any additional figures and files needed to reproduce the results.  You instructor should already have your git repository and be able to pull in your changes. "
   ]
  },
  {
   "cell_type": "markdown",
   "metadata": {},
   "source": [
    "Written by Dr. Dirk Colbry, Michigan State University (Updated by Dr. Nathan Haut in Spring 2025)\n",
    "<a rel=\"license\" href=\"http://creativecommons.org/licenses/by-nc/4.0/\"><img alt=\"Creative Commons License\" style=\"border-width:0\" src=\"https://i.creativecommons.org/l/by-nc/4.0/88x31.png\" /></a><br />This work is licensed under a <a rel=\"license\" href=\"http://creativecommons.org/licenses/by-nc/4.0/\">Creative Commons Attribution-NonCommercial 4.0 International License</a>."
   ]
  },
  {
   "cell_type": "markdown",
   "metadata": {},
   "source": [
    "----"
   ]
  }
 ],
 "metadata": {
  "anaconda-cloud": {},
  "kernelspec": {
   "display_name": "Python [conda env:base] *",
   "language": "python",
   "name": "conda-base-py"
  },
  "language_info": {
   "codemirror_mode": {
    "name": "ipython",
    "version": 3
   },
   "file_extension": ".py",
   "mimetype": "text/x-python",
   "name": "python",
   "nbconvert_exporter": "python",
   "pygments_lexer": "ipython3",
   "version": "3.12.7"
  }
 },
 "nbformat": 4,
 "nbformat_minor": 4
}
